{
 "cells": [
  {
   "cell_type": "markdown",
   "metadata": {},
   "source": [
    "#### Tacotron2 + WaveGlow 한국어 TTS 최적화를 위한 필수 전처리 과정을 단계별로 정리한 내용\n",
    "1. 텍스트 정제, 자소분리, vocab 생성 및 tokenize\n",
    "2. 음성 데이터 전처리\n",
    "3. 멜스펙트로그램 변환"
   ]
  },
  {
   "cell_type": "code",
   "execution_count": null,
   "metadata": {},
   "outputs": [],
   "source": [
    "!pip install librosa numpy noisereduce jamo webrtcvad matplotlib sox sentencepiece\n"
   ]
  },
  {
   "cell_type": "markdown",
   "metadata": {},
   "source": [
    "### 1) 텍스트 전처리\n",
    "- 정제\n",
    "- 자소분리 (음소 단위 변환)\n",
    "- vocab 생성"
   ]
  },
  {
   "cell_type": "markdown",
   "metadata": {},
   "source": [
    "##### 텍스트 정제"
   ]
  },
  {
   "cell_type": "code",
   "execution_count": null,
   "metadata": {},
   "outputs": [],
   "source": [
    "import re\n",
    "\n",
    "def normalize_numbers(text):\n",
    "    \"\"\"숫자를 한글 발음으로 변환\"\"\"\n",
    "    num_dict = {\n",
    "        \"0\": \"영\", \"1\": \"일\", \"2\": \"이\", \"3\": \"삼\", \"4\": \"사\",\n",
    "        \"5\": \"오\", \"6\": \"육\", \"7\": \"칠\", \"8\": \"팔\", \"9\": \"구\"\n",
    "    }\n",
    "    return \"\".join(num_dict.get(c, c) for c in text)\n",
    "\n",
    "def clean_text(text):\n",
    "    \"\"\"텍스트 정제\"\"\"\n",
    "    text = text.lower()  # 소문자로 변환\n",
    "    text = re.sub(r'[^가-힣0-9\\s,.!?]', '', text)  # 한글, 숫자, 공백, 구두점만 유지\n",
    "    text = re.sub(r'\\s+', ' ', text).strip()  # 연속된 공백 제거\n",
    "    text = normalize_numbers(text)  # 숫자 변환\n",
    "    return text\n",
    "\n",
    "# 테스트\n",
    "sample_text = \"100cm짜리 2024년 모델입니다!\"\n",
    "print(clean_text(sample_text))  # \"일공공 센티미터짜리 이공이사년 모델입니다!\"\n"
   ]
  },
  {
   "cell_type": "markdown",
   "metadata": {},
   "source": [
    "##### 자소 분리"
   ]
  },
  {
   "cell_type": "code",
   "execution_count": null,
   "metadata": {},
   "outputs": [],
   "source": [
    "import jamo\n",
    "\n",
    "def split_jaso(text):\n",
    "    \"\"\"한글을 자소 단위로 분리\"\"\"\n",
    "    return \" \".join(jamo.hangul_to_jamo(text))\n",
    "\n",
    "# 테스트\n",
    "print(split_jaso(\"안녕하세요\"))  # \"ㅇㅏㄴ ㄴㅕㅇ ㅎㅏ ㅅㅔ ㅇㅛ\""
   ]
  },
  {
   "cell_type": "markdown",
   "metadata": {},
   "source": [
    "##### Tokenizer 및 Vocab 생성"
   ]
  },
  {
   "cell_type": "code",
   "execution_count": null,
   "metadata": {},
   "outputs": [],
   "source": [
    "import sentencepiece as spm\n",
    "\n",
    "# 학습용 코퍼스 저장\n",
    "corpus_texts = [\"안녕하세요\", \"반갑습니다\", \"이 모델은 TTS 시스템입니다.\"]\n",
    "with open(\"corpus.txt\", \"w\", encoding=\"utf-8\") as f:\n",
    "    for line in corpus_texts:\n",
    "        f.write(line + \"\\n\")\n",
    "\n",
    "# SentencePiece 모델 학습\n",
    "spm.SentencePieceTrainer.train(input=\"corpus.txt\", model_prefix=\"tokenizer\", vocab_size=500, model_type=\"bpe\")\n",
    "\n",
    "# Tokenizer 불러오기\n",
    "sp = spm.SentencePieceProcessor()\n",
    "sp.load(\"tokenizer.model\")\n",
    "\n",
    "# 테스트\n",
    "print(sp.encode_as_pieces(\"이 모델은 TTS 시스템입니다.\"))  # 예: ['▁이', '▁모델은', '▁TTS', '▁시스템입니다']"
   ]
  },
  {
   "cell_type": "markdown",
   "metadata": {},
   "source": [
    "### 2) 음성 데이터 전처리\n",
    "- 샘플링 레이트 변환\n",
    "- 무음 제거\n",
    "- 볼륨 정규화\n",
    "- 잡음 제거\n",
    "- 데이터 길이 통일"
   ]
  },
  {
   "cell_type": "markdown",
   "metadata": {},
   "source": [
    "##### 샘플링 레이트 변환 (16kHz -> 22.05kHz)"
   ]
  },
  {
   "cell_type": "code",
   "execution_count": null,
   "metadata": {},
   "outputs": [],
   "source": [
    "import librosa\n",
    "\n",
    "# 음성 데이터 로드\n",
    "y, sr = librosa.load(\"audio.wav\", sr=16000)\n",
    "\n",
    "# 22050Hz로 변환\n",
    "y_resampled = librosa.resample(y, orig_sr=sr, target_sr=22050)\n",
    "\n",
    "# 저장\n",
    "librosa.output.write_wav(\"resampled_audio.wav\", y_resampled, 22050)"
   ]
  },
  {
   "cell_type": "markdown",
   "metadata": {},
   "source": [
    "##### 무음 제거"
   ]
  },
  {
   "cell_type": "code",
   "execution_count": null,
   "metadata": {},
   "outputs": [],
   "source": [
    "import librosa.effects\n",
    "\n",
    "y, sr = librosa.load(\"resampled_audio.wav\", sr=22050)\n",
    "\n",
    "# 무음 제거\n",
    "y_trimmed, _ = librosa.effects.trim(y, top_db=20)\n",
    "\n",
    "librosa.output.write_wav(\"trimmed_audio.wav\", y_trimmed, sr)"
   ]
  },
  {
   "cell_type": "markdown",
   "metadata": {},
   "source": [
    "##### 볼륨 정규화"
   ]
  },
  {
   "cell_type": "code",
   "execution_count": null,
   "metadata": {},
   "outputs": [],
   "source": [
    "import numpy as np\n",
    "\n",
    "def normalize_audio(y):\n",
    "    return y / np.max(np.abs(y))  # 최대 진폭을 1로 정규화\n",
    "\n",
    "y, sr = librosa.load(\"trimmed_audio.wav\", sr=22050)\n",
    "y_norm = normalize_audio(y)\n",
    "\n",
    "librosa.output.write_wav(\"normalized_audio.wav\", y_norm, sr)\n"
   ]
  },
  {
   "cell_type": "markdown",
   "metadata": {},
   "source": [
    "##### 잡음 제거"
   ]
  },
  {
   "cell_type": "code",
   "execution_count": null,
   "metadata": {},
   "outputs": [],
   "source": [
    "import noisereduce as nr\n",
    "\n",
    "y, sr = librosa.load(\"normalized_audio.wav\", sr=22050)\n",
    "\n",
    "# 잡음 제거\n",
    "y_denoised = nr.reduce_noise(y=y, sr=sr)\n",
    "\n",
    "librosa.output.write_wav(\"denoised_audio.wav\", y_denoised, sr)"
   ]
  },
  {
   "cell_type": "markdown",
   "metadata": {},
   "source": [
    "### 3) 멜 스펙트로그램 생성 및 시각화\n",
    "- 멜 스펙트로그램 변환\n",
    "- 멜 스펙트로그램 시각화"
   ]
  },
  {
   "cell_type": "markdown",
   "metadata": {},
   "source": [
    "##### 멜 스펙트로그램 변환"
   ]
  },
  {
   "cell_type": "code",
   "execution_count": null,
   "metadata": {},
   "outputs": [],
   "source": [
    "import librosa.display\n",
    "import matplotlib.pyplot as plt\n",
    "\n",
    "y, sr = librosa.load(\"denoised_audio.wav\", sr=22050)\n",
    "\n",
    "# 멜스펙트로그램 변환\n",
    "mel_spec = librosa.feature.melspectrogram(y=y, sr=sr, n_mels=80, hop_length=256, win_length=1024, fmax=8000)\n",
    "\n",
    "# 로그 변환\n",
    "log_mel_spec = librosa.power_to_db(mel_spec, ref=np.max)"
   ]
  },
  {
   "cell_type": "markdown",
   "metadata": {},
   "source": [
    "##### 멜 스펙트로그램 시각화"
   ]
  },
  {
   "cell_type": "code",
   "execution_count": null,
   "metadata": {},
   "outputs": [],
   "source": [
    "plt.figure(figsize=(10, 4))\n",
    "librosa.display.specshow(log_mel_spec, sr=sr, x_axis='time', y_axis='mel')\n",
    "plt.colorbar(format='%+2.0f dB')\n",
    "plt.title('Mel Spectrogram')\n",
    "plt.show()"
   ]
  },
  {
   "cell_type": "markdown",
   "metadata": {},
   "source": [
    "### 🔍 정리: 전체 전처리 프로세스\n",
    "\n",
    "##### ✅ 텍스트 전처리\n",
    "- 텍스트 정제 (clean_text())\n",
    "- 자소 분리 (split_jaso())\n",
    "- 토크나이저 (sentencepiece 활용)\n",
    "\n",
    "##### ✅ 음성 데이터 전처리\n",
    "- 샘플링 레이트 통일 (16kHz → 22.05kHz)\n",
    "- 무음 제거 (librosa.effects.trim())\n",
    "- 볼륨 정규화\n",
    "- 잡음 제거 (noisereduce 활용)\n",
    "\n",
    "##### ✅ 멜스펙트로그램 변환 및 시각화\n",
    "- 80개 Mel 필터 사용\n",
    "- Hop length 256, Win length 1024\n",
    "- fmax=8000 설정\n",
    "- 로그 스펙트로그램 변환 후 시각화"
   ]
  }
 ],
 "metadata": {
  "language_info": {
   "name": "python"
  }
 },
 "nbformat": 4,
 "nbformat_minor": 2
}
